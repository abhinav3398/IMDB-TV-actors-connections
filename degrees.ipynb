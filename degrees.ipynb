{
 "cells": [
  {
   "cell_type": "markdown",
   "metadata": {},
   "source": [
    "### import libraries"
   ]
  },
  {
   "cell_type": "code",
   "execution_count": 1,
   "metadata": {},
   "outputs": [
    {
     "data": {
      "text/plain": [
       "remove (generic function with 2 methods)"
      ]
     },
     "execution_count": 1,
     "metadata": {},
     "output_type": "execute_result"
    }
   ],
   "source": [
    "using CSV\n",
    "using DataFrames\n",
    "\n",
    "import Base.Threads.@spawn\n",
    "\n",
    "include(\"util.jl\")"
   ]
  },
  {
   "cell_type": "markdown",
   "metadata": {},
   "source": [
    "Maps names to a set of corresponding person_ids"
   ]
  },
  {
   "cell_type": "code",
   "execution_count": 2,
   "metadata": {},
   "outputs": [],
   "source": [
    "names = Dict{String, Set}();"
   ]
  },
  {
   "cell_type": "markdown",
   "metadata": {},
   "source": [
    "Maps person_ids to a dictionary of: name, birth, movies (a set of movie_ids)"
   ]
  },
  {
   "cell_type": "code",
   "execution_count": 3,
   "metadata": {},
   "outputs": [],
   "source": [
    "people = Dict{Int64, Dict{String, Any}}();"
   ]
  },
  {
   "cell_type": "markdown",
   "metadata": {},
   "source": [
    "Maps movie_ids to a dictionary of: title, year, stars (a set of person_ids)"
   ]
  },
  {
   "cell_type": "code",
   "execution_count": 4,
   "metadata": {},
   "outputs": [],
   "source": [
    "movies = Dict{Int64, Dict{String, Any}}();"
   ]
  },
  {
   "cell_type": "code",
   "execution_count": 5,
   "metadata": {},
   "outputs": [
    {
     "data": {
      "text/plain": [
       "load_data"
      ]
     },
     "execution_count": 5,
     "metadata": {},
     "output_type": "execute_result"
    }
   ],
   "source": [
    "\"\"\"Load data from CSV files into memory. \"\"\"\n",
    "function load_data(directory::String)\n",
    "    # Load people\n",
    "    people_data = CSV.read(directory*\"/people.csv\");\n",
    "    for row ∈ 1:nrow(people_data)\n",
    "        people[people_data[row, 1]] = Dict(\n",
    "            \"name\" => people_data[row, 2], \n",
    "            \"birth\" => people_data[row, 3], \n",
    "            \"movies\" => Set()\n",
    "        );\n",
    "        if !(haskey(names, lowercase(people_data[row, 2])))\n",
    "            names[lowercase(people_data[row, 2])] = Set(people_data[row, 1]);\n",
    "        else\n",
    "            push!(names[lowercase(people_data[row, 2])], people_data[row, 1]);\n",
    "        end\n",
    "    end\n",
    "\n",
    "    # Load movies\n",
    "    movies_data = CSV.read(directory*\"/movies.csv\");\n",
    "    for row ∈ 1:nrow(movies_data)\n",
    "        movies[movies_data[row, 1]] = Dict(\n",
    "            \"title\" => movies_data[row, 2], \n",
    "            \"year\" => movies_data[row, 3], \n",
    "            \"stars\" => Set()\n",
    "        );\n",
    "    end\n",
    "\n",
    "    # Load stars\n",
    "    stars_data = CSV.read(directory*\"/stars.csv\");\n",
    "    for row ∈ 1:nrow(stars_data)\n",
    "        try \n",
    "            push!(people[stars_data[row, 1]][\"movies\"], stars_data[row, 2]);\n",
    "            push!(movies[stars_data[row, 2]][\"stars\"], stars_data[row, 1]);\n",
    "        catch KeyError\n",
    "            # pass\n",
    "        end\n",
    "    end\n",
    "end"
   ]
  },
  {
   "cell_type": "code",
   "execution_count": 6,
   "metadata": {},
   "outputs": [
    {
     "data": {
      "text/plain": [
       "neighbors_for_person"
      ]
     },
     "execution_count": 6,
     "metadata": {},
     "output_type": "execute_result"
    }
   ],
   "source": [
    "\"\"\"\n",
    "Returns (movie_id, person_id) pairs for people\n",
    "    who starred with a given person. \n",
    "\"\"\"\n",
    "function neighbors_for_person(person_id :: Int64)\n",
    "    movie_ids = people[person_id][\"movies\"];\n",
    "    neighbors = Set();\n",
    "    for movie_id ∈ movie_ids, person_id ∈ movies[movie_id][\"stars\"]\n",
    "        push!(neighbors, (movie_id, person_id));\n",
    "    end\n",
    "    return neighbors;\n",
    "end"
   ]
  },
  {
   "cell_type": "code",
   "execution_count": 7,
   "metadata": {},
   "outputs": [
    {
     "data": {
      "text/plain": [
       "person_id_for_name"
      ]
     },
     "execution_count": 7,
     "metadata": {},
     "output_type": "execute_result"
    }
   ],
   "source": [
    "\"\"\"\n",
    "Returns the IMDB id for a person's name,\n",
    "resolving ambiguities as needed. \n",
    "\"\"\"\n",
    "function person_id_for_name(name::String)\n",
    "    person_ids = collect(get(names, lowercase(name), Set()));\n",
    "    if length(person_ids) == 0\n",
    "        return nothing;\n",
    "    elseif length(person_ids) > 1\n",
    "        print(\"Which '$name'?\");\n",
    "        for person_id ∈ person_ids\n",
    "            person = people[person_id];\n",
    "            name, birth = person[\"name\"], person[\"birth\"];\n",
    "            println(\"ID: $person_id, Name: $name, birth: $birth\");\n",
    "        end\n",
    "        try \n",
    "            print(\"Intended Person ID: \");\n",
    "            person_id = readline();\n",
    "            if person_id ∈ person_ids\n",
    "                return person_id;\n",
    "            end\n",
    "        catch ArgumentError\n",
    "            # pass\n",
    "        end\n",
    "        return nothing;\n",
    "    else\n",
    "        return first(person_ids);\n",
    "    end\n",
    "end"
   ]
  },
  {
   "cell_type": "code",
   "execution_count": 15,
   "metadata": {},
   "outputs": [
    {
     "data": {
      "text/plain": [
       "shortest_path"
      ]
     },
     "execution_count": 15,
     "metadata": {},
     "output_type": "execute_result"
    }
   ],
   "source": [
    "\"\"\"\n",
    "Returns the shortest list of (movie_id, person_id) pairs\n",
    "    that connect the source to the target.\n",
    "\n",
    "    If no possible path, returns nothing. \n",
    "\"\"\"\n",
    "function shortest_path(source :: Int64, target :: Int64)\n",
    "    \n",
    "    # Keep track of number of states explored\n",
    "    num_explored = 0\n",
    "\n",
    "    # Initialize frontier to just the starting position\n",
    "    start, goal = Node(source, nothing, nothing), Node(target, nothing, nothing)\n",
    "\n",
    "    frwd_frontier, bcwd_frontier =  [start], [goal]\n",
    "    frontier_type = typeof(frwd_frontier)\n",
    "\n",
    "    # Initialize an empty explored set\n",
    "    frwd_explored, bcwd_explored = Set{Union{Nothing, Integer}}(), Set{Union{Nothing, Integer}}()\n",
    "    frwd_path, bcwd_path = Tuple{Union{Nothing, Integer, Node}, Union{Nothing, Integer, Node}}[], Tuple{Union{Nothing, Integer, Node}, Union{Nothing, Integer, Node}}[]\n",
    "\n",
    "    # Keep looping until solution found\n",
    "    while true\n",
    "        # If nothing left in frontier, then no path\n",
    "        if isempty(frwd_frontier) || isempty(bcwd_frontier)\n",
    "            return frwd_path, true;\n",
    "        end\n",
    "\n",
    "        # Choose a node from the frontier\n",
    "        frwd_node, bcwd_node = popfirst!(frwd_frontier), popfirst!(bcwd_frontier);\n",
    "        num_explored += 1;\n",
    "\n",
    "        # Add neighbors to forward frontier\n",
    "        for (action, state) in neighbors_for_person(frwd_node.state)\n",
    "            if !(state in frwd_explored)\n",
    "                child = Node(state, frwd_node, action);\n",
    "                # If child is the target, then we have a solution\n",
    "                if child.state == target\n",
    "                    while child.parent != nothing\n",
    "                        pushfirst!(frwd_path, (child.action, child.state))\n",
    "                        child = child.parent\n",
    "                    end\n",
    "                    return frwd_path, true\n",
    "                end\n",
    "                push!(frwd_frontier, child);\n",
    "                push!(frwd_explored, child.state);\n",
    "            end\n",
    "        end\n",
    "        \n",
    "        # Add neighbors to backward frontier\n",
    "        for (action, state) in neighbors_for_person(bcwd_node.state)\n",
    "            if !(state in bcwd_explored)\n",
    "                child = Node(state, bcwd_node, action);\n",
    "                # If child is the target, then we have a solution\n",
    "                if child.state == source\n",
    "                    while child.parent != nothing\n",
    "                        pushfirst!(bcwd_path, (child.action, child.state))\n",
    "                        child = child.parent\n",
    "                    end\n",
    "                    return bcwd_path, false\n",
    "                end\n",
    "                push!(bcwd_frontier, child);\n",
    "                push!(bcwd_explored, child.state);\n",
    "            end\n",
    "        end\n",
    "    end\n",
    "end"
   ]
  },
  {
   "cell_type": "markdown",
   "metadata": {},
   "source": [
    "how mny threads does julia have?"
   ]
  },
  {
   "cell_type": "code",
   "execution_count": 9,
   "metadata": {},
   "outputs": [
    {
     "data": {
      "text/plain": [
       "1"
      ]
     },
     "execution_count": 9,
     "metadata": {},
     "output_type": "execute_result"
    }
   ],
   "source": [
    "Threads.nthreads()"
   ]
  },
  {
   "cell_type": "markdown",
   "metadata": {},
   "source": [
    "## start"
   ]
  },
  {
   "cell_type": "markdown",
   "metadata": {},
   "source": [
    "get data directory"
   ]
  },
  {
   "cell_type": "code",
   "execution_count": 10,
   "metadata": {},
   "outputs": [],
   "source": [
    "directory = \"large\";"
   ]
  },
  {
   "cell_type": "markdown",
   "metadata": {},
   "source": [
    "##### Load data from files into memory\n",
    "\n",
    "it might take some time to load the data as it's large 😅"
   ]
  },
  {
   "cell_type": "code",
   "execution_count": 11,
   "metadata": {},
   "outputs": [
    {
     "name": "stdout",
     "output_type": "stream",
     "text": [
      "Loading data...\n",
      "Data loaded.\n"
     ]
    }
   ],
   "source": [
    "println(\"Loading data...\");\n",
    "load_data(directory);\n",
    "println(\"Data loaded.\");"
   ]
  },
  {
   "cell_type": "markdown",
   "metadata": {},
   "source": [
    "get person"
   ]
  },
  {
   "cell_type": "code",
   "execution_count": 18,
   "metadata": {},
   "outputs": [
    {
     "name": "stdout",
     "output_type": "stream",
     "text": [
      "Enter Person 1 Name: "
     ]
    },
    {
     "name": "stdin",
     "output_type": "stream",
     "text": [
      "stdin>  Juliane Banse\n"
     ]
    },
    {
     "name": "stdout",
     "output_type": "stream",
     "text": [
      "Enter Person 2 Name: "
     ]
    },
    {
     "name": "stdin",
     "output_type": "stream",
     "text": [
      "stdin>  Julian Acosta\n"
     ]
    }
   ],
   "source": [
    "print(\"Enter Person 1 Name: \");\n",
    "source =  person_id_for_name(readline());\n",
    "if (source == nothing)\n",
    "    println(\"Person not found.\");\n",
    "    exit(1)\n",
    "end\n",
    "print(\"Enter Person 2 Name: \");\n",
    "target = person_id_for_name(readline())\n",
    "if (target == nothing)\n",
    "    println(\"Person not found.\");\n",
    "    exit(1)\n",
    "end"
   ]
  },
  {
   "cell_type": "markdown",
   "metadata": {},
   "source": [
    "find the shortest path between them"
   ]
  },
  {
   "cell_type": "code",
   "execution_count": null,
   "metadata": {},
   "outputs": [],
   "source": [
    "@time path, used_frwd_path = shortest_path(source, target);"
   ]
  },
  {
   "cell_type": "markdown",
   "metadata": {},
   "source": [
    "find connection between person1(source) and person2(target)"
   ]
  },
  {
   "cell_type": "code",
   "execution_count": 17,
   "metadata": {},
   "outputs": [
    {
     "name": "stdout",
     "output_type": "stream",
     "text": [
      "Not connected.\n"
     ]
    }
   ],
   "source": [
    "if isempty(path)\n",
    "    println(\"Not connected.\");\n",
    "else\n",
    "    degrees = length(path);\n",
    "    println(\"$degrees degrees of seperation.\");\n",
    "    path = vcat([(nothing, if used_frwd_path source else target end)], path);\n",
    "    for i ∈ 1:degrees\n",
    "        person1 = people[path[i][2]][\"name\"];\n",
    "        person2 = people[path[i + 1][2]][\"name\"];\n",
    "        movie = movies[path[i + 1][1]][\"title\"];\n",
    "        println(\"$(i): $person1 and $person2 starred in $movie\");\n",
    "    end\n",
    "end"
   ]
  },
  {
   "cell_type": "code",
   "execution_count": null,
   "metadata": {},
   "outputs": [],
   "source": []
  }
 ],
 "metadata": {
  "file_extension": ".py",
  "kernelspec": {
   "display_name": "Julia 1.4.0",
   "language": "julia",
   "name": "julia-1.4"
  },
  "language_info": {
   "file_extension": ".jl",
   "mimetype": "application/julia",
   "name": "julia",
   "version": "1.4.0"
  },
  "mimetype": "text/x-python",
  "name": "python",
  "npconvert_exporter": "python",
  "pygments_lexer": "ipython3",
  "version": 3
 },
 "nbformat": 4,
 "nbformat_minor": 4
}
